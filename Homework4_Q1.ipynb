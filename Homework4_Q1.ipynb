{
  "nbformat": 4,
  "nbformat_minor": 0,
  "metadata": {
    "colab": {
      "provenance": []
    },
    "kernelspec": {
      "name": "python3",
      "display_name": "Python 3"
    },
    "language_info": {
      "name": "python"
    }
  },
  "cells": [
    {
      "cell_type": "code",
      "source": [
        "!pip install pyspark"
      ],
      "metadata": {
        "id": "TRT4EXicf3T9",
        "colab": {
          "base_uri": "https://localhost:8080/"
        },
        "outputId": "04249828-c976-43d2-ae93-eafce0a883d2"
      },
      "execution_count": 2,
      "outputs": [
        {
          "output_type": "stream",
          "name": "stdout",
          "text": [
            "Looking in indexes: https://pypi.org/simple, https://us-python.pkg.dev/colab-wheels/public/simple/\n",
            "Collecting pyspark\n",
            "  Downloading pyspark-3.4.0.tar.gz (310.8 MB)\n",
            "\u001b[2K     \u001b[90m━━━━━━━━━━━━━━━━━━━━━━━━━━━━━━━━━━━━━━━\u001b[0m \u001b[32m310.8/310.8 MB\u001b[0m \u001b[31m3.0 MB/s\u001b[0m eta \u001b[36m0:00:00\u001b[0m\n",
            "\u001b[?25h  Preparing metadata (setup.py) ... \u001b[?25l\u001b[?25hdone\n",
            "Requirement already satisfied: py4j==0.10.9.7 in /usr/local/lib/python3.10/dist-packages (from pyspark) (0.10.9.7)\n",
            "Building wheels for collected packages: pyspark\n",
            "  Building wheel for pyspark (setup.py) ... \u001b[?25l\u001b[?25hdone\n",
            "  Created wheel for pyspark: filename=pyspark-3.4.0-py2.py3-none-any.whl size=311317145 sha256=8286a559e4ade278a36a8d9dabf03cc647289e74c1477b47f5be3e31c38a58d5\n",
            "  Stored in directory: /root/.cache/pip/wheels/7b/1b/4b/3363a1d04368e7ff0d408e57ff57966fcdf00583774e761327\n",
            "Successfully built pyspark\n",
            "Installing collected packages: pyspark\n",
            "Successfully installed pyspark-3.4.0\n"
          ]
        }
      ]
    },
    {
      "cell_type": "code",
      "source": [
        "from google.colab import drive\n",
        "drive.mount('/content/drive')"
      ],
      "metadata": {
        "id": "Pk8MCfm4f8JP",
        "colab": {
          "base_uri": "https://localhost:8080/"
        },
        "outputId": "81790d60-36ae-4c16-8507-3867f65f431d"
      },
      "execution_count": 3,
      "outputs": [
        {
          "output_type": "stream",
          "name": "stdout",
          "text": [
            "Mounted at /content/drive\n"
          ]
        }
      ]
    },
    {
      "cell_type": "code",
      "source": [
        "#Question 1a)"
      ],
      "metadata": {
        "id": "a6Ey2-nF_q5F"
      },
      "execution_count": 4,
      "outputs": []
    },
    {
      "cell_type": "code",
      "source": [
        "from pyspark.sql import SparkSession\n",
        "from pyspark.ml.feature import VectorAssembler\n",
        "from pyspark.ml.feature import StandardScaler\n",
        "from pyspark.ml.clustering import KMeans\n",
        "from pyspark.ml.evaluation import ClusteringEvaluator\n",
        "import matplotlib.pyplot as plt\n",
        "\n",
        "# Create a SparkSession object\n",
        "# Load the dataset into a Spark DataFrame with the defined schema\n",
        "spark = SparkSession.builder.appName(\"Clustering using K-Means\").getOrCreate()\n",
        "data = spark.read.csv('/content/drive/MyDrive/UTD/2023 Spring/BigData/HW4/Iris.csv', header=True, inferSchema=True)\n",
        "data.printSchema()\n",
        "\n",
        "# Assemble feature columns into a single vector column\n",
        "featurecol = data.columns[:-1]\n",
        "assemble = VectorAssembler(inputCols=featurecol, outputCol=\"features\")\n",
        "assembled_data = assemble.transform(data)\n",
        "\n",
        "# Scale the features using StandardScaler\n",
        "scale = StandardScaler(inputCol='features',outputCol='scaled')\n",
        "scale_model = scale.fit(assembled_data)\n",
        "scale_model_output = scale_model.transform(assembled_data)\n",
        "\n",
        "silhouette_score = []\n",
        "evaluator = ClusteringEvaluator()\n",
        "\n",
        "# Perform K-means clustering for k ranging from 2 to 10\n",
        "for i in range(2,11):\n",
        "\n",
        "    Kmeans = KMeans(k=i, seed = 1)\n",
        "    KMeans_fit = Kmeans.fit(scale_model_output)\n",
        "    predictions = KMeans_fit.transform(scale_model_output)\n",
        "\n",
        "    score = evaluator.evaluate(predictions)\n",
        "    silhouette_score.append(score)\n",
        "    print(\"Silhouette Score for k = \" + str(i) + \" is \" + str(score))\n",
        "\n",
        "print()\n",
        "\n",
        "# Plot the Score vs K graph\n",
        "plt.plot(range(2,11), silhouette_score)\n",
        "plt.xlabel('K')\n",
        "plt.ylabel('Silhouette Score')\n",
        "plt.title('Score vs K')\n",
        "plt.show()"
      ],
      "metadata": {
        "colab": {
          "base_uri": "https://localhost:8080/",
          "height": 794
        },
        "id": "Cpfefrv-6x0p",
        "outputId": "096f8649-79d7-4f77-af55-8ab725821820"
      },
      "execution_count": 5,
      "outputs": [
        {
          "output_type": "stream",
          "name": "stdout",
          "text": [
            "root\n",
            " |-- Id: integer (nullable = true)\n",
            " |-- SepalLengthCm: double (nullable = true)\n",
            " |-- SepalWidthCm: double (nullable = true)\n",
            " |-- PetalLengthCm: double (nullable = true)\n",
            " |-- PetalWidthCm: double (nullable = true)\n",
            " |-- Species: string (nullable = true)\n",
            "\n",
            "Silhouette Score for k = 2 is 0.7872281904585385\n",
            "Silhouette Score for k = 3 is 0.7482611209321568\n",
            "Silhouette Score for k = 4 is 0.7242798876964539\n",
            "Silhouette Score for k = 5 is 0.7096291968118152\n",
            "Silhouette Score for k = 6 is 0.6994193012271033\n",
            "Silhouette Score for k = 7 is 0.6917386067723421\n",
            "Silhouette Score for k = 8 is 0.6812504790787621\n",
            "Silhouette Score for k = 9 is 0.6748327276043632\n",
            "Silhouette Score for k = 10 is 0.6632452987037495\n",
            "\n"
          ]
        },
        {
          "output_type": "display_data",
          "data": {
            "text/plain": [
              "<Figure size 640x480 with 1 Axes>"
            ],
            "image/png": "[encoded data removed]"
          },
          "metadata": {}
        }
      ]
    },
    {
      "cell_type": "code",
      "source": [
        "#Question 1b)"
      ],
      "metadata": {
        "id": "-uj_j0bT_tTA"
      },
      "execution_count": 6,
      "outputs": []
    },
    {
      "cell_type": "code",
      "source": [
        "from pyspark.ml.clustering import KMeans\n",
        "from pyspark.ml.evaluation import ClusteringEvaluator\n",
        "from pyspark.ml.clustering import GaussianMixture\n",
        "\n",
        "k = 2\n",
        "\n",
        "#K-Means Model\n",
        "kmeans = KMeans(k = k, seed = 1)\n",
        "kmeans_model = kmeans.fit(scale_model_output)\n",
        "kmeans_output = kmeans_model.transform(scale_model_output)\n",
        "\n",
        "kmeans_evaluator = ClusteringEvaluator()\n",
        "kmeans_score = kmeans_evaluator.evaluate(kmeans_output)\n",
        "print(\"K-means silhouette score for k = \" + str(k) + \" is \" + str(kmeans_score))\n",
        "\n",
        "\n",
        "#GMM Model\n",
        "gmm = GaussianMixture(k = k, seed = 1)\n",
        "gmm_model = gmm.fit(scale_model_output)\n",
        "gmm_output = gmm_model.transform(scale_model_output)\n",
        "\n",
        "gmm_evaluator = ClusteringEvaluator()\n",
        "gmm_score = gmm_evaluator.evaluate(gmm_output)\n",
        "print(\"GMM silhouette score for k = \" + str(k) + \" is \" + str(gmm_score))"
      ],
      "metadata": {
        "colab": {
          "base_uri": "https://localhost:8080/"
        },
        "id": "2s2BdzFNBmRY",
        "outputId": "503b2caa-3b0f-41ff-c801-d32ec17966fc"
      },
      "execution_count": 7,
      "outputs": [
        {
          "output_type": "stream",
          "name": "stdout",
          "text": [
            "K-means silhouette score for k = 2 is 0.7872281904585385\n",
            "GMM silhouette score for k = 2 is 0.6752702690960161\n"
          ]
        }
      ]
    }
  ]
}